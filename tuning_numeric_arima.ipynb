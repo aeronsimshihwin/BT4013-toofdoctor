{
 "cells": [
  {
   "cell_type": "markdown",
   "id": "seasonal-technician",
   "metadata": {},
   "source": [
    "# Setup"
   ]
  },
  {
   "cell_type": "code",
   "execution_count": 1,
   "id": "floppy-memorial",
   "metadata": {},
   "outputs": [
    {
     "name": "stdout",
     "output_type": "stream",
     "text": [
      "/home/mitchellkwong/onedrive/workbins/BT4013/BT4013-toofdoctor\n"
     ]
    }
   ],
   "source": [
    "cd /home/mitchellkwong/onedrive/workbins/BT4013/BT4013-toofdoctor"
   ]
  },
  {
   "cell_type": "code",
   "execution_count": 2,
   "id": "portable-stanley",
   "metadata": {},
   "outputs": [],
   "source": [
    "%load_ext autoreload\n",
    "%autoreload 2\n",
    "%matplotlib inline\n",
    "\n",
    "from datetime import datetime\n",
    "import pickle\n",
    "\n",
    "import numpy as np\n",
    "import pandas as pd\n",
    "import pmdarima as pm\n",
    "from tqdm import tqdm\n",
    "\n",
    "import utils"
   ]
  },
  {
   "cell_type": "markdown",
   "id": "standing-column",
   "metadata": {},
   "source": [
    "# Models"
   ]
  },
  {
   "cell_type": "code",
   "execution_count": 3,
   "id": "vertical-concord",
   "metadata": {},
   "outputs": [],
   "source": [
    "from models.numeric.arima import ArimaWrapper"
   ]
  },
  {
   "cell_type": "raw",
   "id": "generous-difference",
   "metadata": {},
   "source": [
    "class ArimaWrapper:\n",
    "\n",
    "    SAVED_DIR = None # Override in subclass\n",
    "    \n",
    "    def __init__(self, model=None, y=None, X=None):\n",
    "        self.model = model\n",
    "        self.get_y = y # Extracts y from data[future]\n",
    "        self.get_X = X # Extracts X from data[future]\n",
    "    \n",
    "    def fit(self, data, future):\n",
    "        if future in data:\n",
    "            self._fit(*self._y_X(data, future))\n",
    "    \n",
    "    def predict(self, data, future):\n",
    "        if future in data:\n",
    "            return self._predict(*self._y_X(data, future))\n",
    "        else:\n",
    "            return np.nan\n",
    "    \n",
    "    def _y_X(self, data, future):\n",
    "        X = None if self.get_X is None else self.get_X(data[future])\n",
    "        y = None if self.get_y is None else self.get_y(data[future])\n",
    "        return y, X\n",
    "    \n",
    "    def _fit(self, y, X):\n",
    "        if self.model is None:\n",
    "            self.model = pm.auto_arima(y, error_action='ignore')\n",
    "        else:\n",
    "            self.model.update(y.iloc[-1])\n",
    "    \n",
    "    def _predict(self, y, X):\n",
    "        self._fit(y, X)\n",
    "        y_pred = self.model.predict(n_periods=1)[0]\n",
    "        y_diff = y_pred - y.iloc[-1]\n",
    "        return y_diff    "
   ]
  },
  {
   "cell_type": "markdown",
   "id": "continued-brain",
   "metadata": {},
   "source": [
    "# Verify persistence is working"
   ]
  },
  {
   "cell_type": "code",
   "execution_count": 4,
   "id": "nuclear-permit",
   "metadata": {},
   "outputs": [
    {
     "name": "stderr",
     "output_type": "stream",
     "text": [
      "100%|██████████| 88/88 [00:30<00:00,  2.86it/s]\n",
      "100%|██████████| 88/88 [00:00<00:00, 638.35it/s]\n",
      "100%|██████████| 88/88 [00:01<00:00, 70.11it/s]\n",
      "100%|██████████| 88/88 [00:01<00:00, 67.57it/s]\n",
      "100%|██████████| 88/88 [00:00<00:00, 752.32it/s]\n",
      "100%|██████████| 88/88 [00:01<00:00, 69.88it/s]\n",
      "100%|██████████| 88/88 [00:00<00:00, 51978.42it/s]\n"
     ]
    }
   ],
   "source": [
    "import os\n",
    "import pickle\n",
    "\n",
    "def variable_scheme(y):\n",
    "    \"\"\"Returns the last 10 close prices in a train split\"\"\"\n",
    "    rows = y.index < datetime(2021, 1, 1)\n",
    "    cols = 'CLOSE'\n",
    "    num_y = 10\n",
    "    return y.loc[rows, cols].tail(num_y)\n",
    "\n",
    "data = utils.load_futures_data()\n",
    "models = {}\n",
    "\n",
    "# Fit all models\n",
    "for future in tqdm(data):\n",
    "    models[future] = ArimaWrapper(y=variable_scheme)\n",
    "    models[future].fit(data, future, error_action='ignore')\n",
    "\n",
    "# Save all models\n",
    "for future in tqdm(data):\n",
    "    with open(f'{future}.p', 'wb') as f:\n",
    "        pickle.dump(models[future], f)\n",
    "\n",
    "# Prediction for t+1\n",
    "pred1 = []\n",
    "for future in tqdm(data):\n",
    "    pred1.append(models[future].predict(data, future))\n",
    "    \n",
    "# Prediction for t+2\n",
    "pred2 = []\n",
    "for future in tqdm(data):\n",
    "    pred2.append(models[future].predict(data, future))\n",
    "\n",
    "# Reload all models\n",
    "for future in tqdm(data):\n",
    "    with open(f'{future}.p', 'rb') as f:\n",
    "        models[future] = pickle.load(f)\n",
    "\n",
    "# Prediction for t+1 again\n",
    "pred3 = []\n",
    "for future in tqdm(data):\n",
    "    pred3.append(models[future].predict(data, future))\n",
    "\n",
    "# Remove temp files\n",
    "for future in tqdm(data):\n",
    "    os.remove(f'{future}.p')\n",
    "\n",
    "assert any(np.array(pred1) != np.array(pred2)) # predictions for t+1 and t+2 should differ\n",
    "assert all(np.array(pred1) == np.array(pred3)) # predictions for t+1 should match before and after reload"
   ]
  },
  {
   "cell_type": "markdown",
   "id": "similar-kelly",
   "metadata": {},
   "source": [
    "# Model Tuning"
   ]
  },
  {
   "cell_type": "code",
   "execution_count": 5,
   "id": "specified-mountain",
   "metadata": {},
   "outputs": [],
   "source": [
    "class ArimaRaw(ArimaWrapper):\n",
    "    SAVED_DIR = 'saved_models/numeric/arima'\n",
    "    \n",
    "    def __init__(self):\n",
    "        super().__init__(y=self.transform_predictor)\n",
    "    \n",
    "    def transform_predictor(self, data):\n",
    "        \"\"\"Returns the last 50 close prices in a train split\"\"\"\n",
    "        rows = data.index < datetime(2021, 1, 1)\n",
    "        cols = 'CLOSE'\n",
    "        y = data.loc[rows, cols]\n",
    "        return y\n",
    "\n",
    "class ArimaLinear(ArimaWrapper):\n",
    "    SAVED_DIR = 'saved_models/numeric/arimalinear'\n",
    "    \n",
    "    def __init__(self):\n",
    "        super().__init__(y=self.transform_predictor)\n",
    "    \n",
    "    def transform_predictor(self, data):\n",
    "        rows = data.index < datetime(2021, 1, 1)\n",
    "        cols = 'CLOSE'\n",
    "        y = data.loc[rows, cols]\n",
    "        y = np.log(y)\n",
    "        return y\n",
    "\n",
    "class ArimaNoTrend(ArimaWrapper):\n",
    "    SAVED_DIR = 'saved_models/numeric/arimanotrend'\n",
    "    \n",
    "    def __init__(self):\n",
    "        super().__init__(y=self.transform_predictor)\n",
    "    \n",
    "    def transform_predictor(self, data):\n",
    "        rows = data.index < datetime(2021, 1, 1)\n",
    "        cols = 'CLOSE'\n",
    "        y = data.loc[rows, cols]\n",
    "        y = np.diff(y)\n",
    "        return y\n",
    "\n",
    "class ArimaLinearNoTrend(ArimaWrapper):\n",
    "    SAVED_DIR = 'saved_models/numeric/arimalinearnotrend'\n",
    "    \n",
    "    def __init__(self):\n",
    "        super().__init__(y=self.transform_predictor)\n",
    "    \n",
    "    def transform_predictor(self, data):\n",
    "        rows = data.index < datetime(2021, 1, 1)\n",
    "        cols = 'CLOSE'\n",
    "        y = data.loc[rows, cols]\n",
    "        y = np.log(y)\n",
    "        y = np.diff(y)\n",
    "        return y"
   ]
  },
  {
   "cell_type": "code",
   "execution_count": 6,
   "id": "occupational-fourth",
   "metadata": {},
   "outputs": [],
   "source": [
    "candidates = [\n",
    "    ArimaRaw,\n",
    "    ArimaLinear,\n",
    "    ArimaNoTrend,\n",
    "    ArimaLinearNoTrend,\n",
    "]\n",
    "candidates = {model.SAVED_DIR: model for model in candidates}"
   ]
  },
  {
   "cell_type": "code",
   "execution_count": 7,
   "id": "integrated-service",
   "metadata": {},
   "outputs": [
    {
     "name": "stderr",
     "output_type": "stream",
     "text": [
      "100%|██████████| 88/88 [00:02<00:00, 30.75it/s]\n",
      "100%|██████████| 88/88 [00:01<00:00, 46.43it/s]\n",
      "100%|██████████| 88/88 [00:00<00:00, 108.41it/s]\n",
      "100%|██████████| 88/88 [00:01<00:00, 72.61it/s]\n"
     ]
    },
    {
     "data": {
      "text/html": [
       "<div>\n",
       "<style scoped>\n",
       "    .dataframe tbody tr th:only-of-type {\n",
       "        vertical-align: middle;\n",
       "    }\n",
       "\n",
       "    .dataframe tbody tr th {\n",
       "        vertical-align: top;\n",
       "    }\n",
       "\n",
       "    .dataframe thead th {\n",
       "        text-align: right;\n",
       "    }\n",
       "</style>\n",
       "<table border=\"1\" class=\"dataframe\">\n",
       "  <thead>\n",
       "    <tr style=\"text-align: right;\">\n",
       "      <th></th>\n",
       "      <th></th>\n",
       "      <th>arima</th>\n",
       "    </tr>\n",
       "    <tr>\n",
       "      <th>save_dir</th>\n",
       "      <th>future</th>\n",
       "      <th></th>\n",
       "    </tr>\n",
       "  </thead>\n",
       "  <tbody>\n",
       "    <tr>\n",
       "      <th rowspan=\"5\" valign=\"top\">saved_models/numeric/arima</th>\n",
       "      <th>F_AD</th>\n",
       "      <td>&lt;__main__.ArimaRaw object at 0x7f7d9eb266d0&gt;</td>\n",
       "    </tr>\n",
       "    <tr>\n",
       "      <th>F_BO</th>\n",
       "      <td>&lt;__main__.ArimaRaw object at 0x7f7d9eb20110&gt;</td>\n",
       "    </tr>\n",
       "    <tr>\n",
       "      <th>F_BP</th>\n",
       "      <td>&lt;__main__.ArimaRaw object at 0x7f7d9cd462d0&gt;</td>\n",
       "    </tr>\n",
       "    <tr>\n",
       "      <th>F_C</th>\n",
       "      <td>&lt;__main__.ArimaRaw object at 0x7f7d9cd56490&gt;</td>\n",
       "    </tr>\n",
       "    <tr>\n",
       "      <th>F_CC</th>\n",
       "      <td>&lt;__main__.ArimaRaw object at 0x7f7d9cd5c4d0&gt;</td>\n",
       "    </tr>\n",
       "  </tbody>\n",
       "</table>\n",
       "</div>"
      ],
      "text/plain": [
       "                                                                          arima\n",
       "save_dir                   future                                              \n",
       "saved_models/numeric/arima F_AD    <__main__.ArimaRaw object at 0x7f7d9eb266d0>\n",
       "                           F_BO    <__main__.ArimaRaw object at 0x7f7d9eb20110>\n",
       "                           F_BP    <__main__.ArimaRaw object at 0x7f7d9cd462d0>\n",
       "                           F_C     <__main__.ArimaRaw object at 0x7f7d9cd56490>\n",
       "                           F_CC    <__main__.ArimaRaw object at 0x7f7d9cd5c4d0>"
      ]
     },
     "execution_count": 7,
     "metadata": {},
     "output_type": "execute_result"
    }
   ],
   "source": [
    "# Load all models (fit and save if no model exists)\n",
    "data = utils.load_futures_data()\n",
    "models = {}\n",
    "for name, model in candidates.items():\n",
    "    for future in tqdm(data):\n",
    "        try:\n",
    "            with open(f'{model.SAVED_DIR}/{future}.p', 'rb') as f:\n",
    "                models[name, future] = pickle.load(f)\n",
    "        except:\n",
    "            models[name, future] = model()\n",
    "            models[name, future].fit(data, future, out_of_sample_size=1500, error_action='ignore')\n",
    "            with open(f'{model.SAVED_DIR}/{future}.p', 'wb') as f:\n",
    "                pickle.dump(models[name, future], f)\n",
    "\n",
    "models = pd.DataFrame.from_dict(models, orient='index')\n",
    "models.index = pd.MultiIndex.from_tuples(models.index, names = ['save_dir', 'future'])\n",
    "models.columns = ['arima']\n",
    "models.head()"
   ]
  },
  {
   "cell_type": "code",
   "execution_count": 12,
   "id": "supreme-instrumentation",
   "metadata": {},
   "outputs": [],
   "source": [
    "models['name'] = models['arima'].apply(lambda x: str(x.model))\n",
    "models['MSE'] = models['arima'].apply(lambda x: x.model.oob_)\n",
    "models[['name', 'MSE']].to_csv('model_metrics/arima_summary.csv')"
   ]
  },
  {
   "cell_type": "markdown",
   "id": "imposed-courage",
   "metadata": {},
   "source": [
    "# Model Summary"
   ]
  },
  {
   "cell_type": "code",
   "execution_count": 3,
   "id": "promising-austria",
   "metadata": {},
   "outputs": [],
   "source": [
    "summary = pd.read_csv('model_metrics/arima_summary.csv')"
   ]
  },
  {
   "cell_type": "code",
   "execution_count": 7,
   "id": "optimum-officer",
   "metadata": {},
   "outputs": [
    {
     "data": {
      "text/html": [
       "<div>\n",
       "<style scoped>\n",
       "    .dataframe tbody tr th:only-of-type {\n",
       "        vertical-align: middle;\n",
       "    }\n",
       "\n",
       "    .dataframe tbody tr th {\n",
       "        vertical-align: top;\n",
       "    }\n",
       "\n",
       "    .dataframe thead th {\n",
       "        text-align: right;\n",
       "    }\n",
       "</style>\n",
       "<table border=\"1\" class=\"dataframe\">\n",
       "  <thead>\n",
       "    <tr style=\"text-align: right;\">\n",
       "      <th></th>\n",
       "      <th>MSE</th>\n",
       "    </tr>\n",
       "    <tr>\n",
       "      <th>save_dir</th>\n",
       "      <th></th>\n",
       "    </tr>\n",
       "  </thead>\n",
       "  <tbody>\n",
       "    <tr>\n",
       "      <th>saved_models/numeric/arima</th>\n",
       "      <td>146559.598031</td>\n",
       "    </tr>\n",
       "    <tr>\n",
       "      <th>saved_models/numeric/arimalinear</th>\n",
       "      <td>0.185371</td>\n",
       "    </tr>\n",
       "    <tr>\n",
       "      <th>saved_models/numeric/arimalinearnotrend</th>\n",
       "      <td>0.015150</td>\n",
       "    </tr>\n",
       "    <tr>\n",
       "      <th>saved_models/numeric/arimanotrend</th>\n",
       "      <td>9424.600275</td>\n",
       "    </tr>\n",
       "  </tbody>\n",
       "</table>\n",
       "</div>"
      ],
      "text/plain": [
       "                                                   MSE\n",
       "save_dir                                              \n",
       "saved_models/numeric/arima               146559.598031\n",
       "saved_models/numeric/arimalinear              0.185371\n",
       "saved_models/numeric/arimalinearnotrend       0.015150\n",
       "saved_models/numeric/arimanotrend          9424.600275"
      ]
     },
     "execution_count": 7,
     "metadata": {},
     "output_type": "execute_result"
    }
   ],
   "source": [
    "np.sqrt(summary.groupby('save_dir').mean())"
   ]
  }
 ],
 "metadata": {
  "kernelspec": {
   "display_name": "Python 3.7.9 64-bit ('BT4013': conda)",
   "language": "python",
   "name": "python37964bitbt4013condad045a5f5fe09400d9aaede7bf721d692"
  },
  "language_info": {
   "codemirror_mode": {
    "name": "ipython",
    "version": 3
   },
   "file_extension": ".py",
   "mimetype": "text/x-python",
   "name": "python",
   "nbconvert_exporter": "python",
   "pygments_lexer": "ipython3",
   "version": "3.7.9"
  }
 },
 "nbformat": 4,
 "nbformat_minor": 5
}
