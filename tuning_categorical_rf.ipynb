{
 "cells": [
  {
   "cell_type": "code",
   "execution_count": null,
   "id": "palestinian-coordinator",
   "metadata": {},
   "outputs": [],
   "source": [
    "import utils\n",
    "import models.categorical\n",
    "import numpy as np\n",
    "import pandas as pd\n",
    "import datetime\n",
    "import pickle\n",
    "\n",
    "from sklearn.ensemble import RandomForestClassifier\n",
    "from sklearn.model_selection import ParameterGrid\n",
    "\n",
    "import warnings\n",
    "warnings.filterwarnings(\"ignore\")"
   ]
  },
  {
   "cell_type": "code",
   "execution_count": null,
   "id": "different-distance",
   "metadata": {},
   "outputs": [],
   "source": [
    "futuresList = utils.futuresList\n",
    "\n",
    "rfParams = [\n",
    "    {\n",
    "        \"n_estimators\": [20, 50, 100], \n",
    "        \"max_depth\": [5, 10, 15],\n",
    "        \"min_samples_split\": [2, 5, 10],\n",
    "        \"min_samples_leaf\": [1, 5],\n",
    "        # \"max_features\": ['sqrt', 'log2']\n",
    "    }\n",
    "]"
   ]
  },
  {
   "cell_type": "markdown",
   "id": "dutch-wings",
   "metadata": {},
   "source": [
    "## Testing Tuning Code for One Future"
   ]
  },
  {
   "cell_type": "code",
   "execution_count": null,
   "id": "prompt-minimum",
   "metadata": {},
   "outputs": [],
   "source": [
    "future = futuresList[0]\n",
    "df = pd.read_csv(f\"tickerData/{future}.txt\", parse_dates = [\"DATE\"])\n",
    "df.columns = ['DATE', 'OPEN', 'HIGH', 'LOW', 'CLOSE', 'VOL', 'OI', 'P', 'R', 'RINFO']\n",
    "df = df.set_index(\"DATE\")\n",
    "df = df[(df.VOL != 0) & (df.CLOSE != 0)]\n",
    "df = df.dropna(axis=0)\n",
    "X_df = utils.generate_X_df([df.CLOSE, df.VOL], [\"perc\", \"perc\"])\n",
    "y_df = utils.generate_y_cat(df.CLOSE)\n",
    "cost_df = utils.perc_change(df.CLOSE, shift=0)"
   ]
  },
  {
   "cell_type": "code",
   "execution_count": null,
   "id": "frozen-moses",
   "metadata": {},
   "outputs": [],
   "source": [
    "parameter_grid = list(ParameterGrid(rfParams))\n",
    "# prepare collated results\n",
    "agg_results_collated = pd.DataFrame(index=list(range(len(parameter_grid))), \n",
    "                                    columns=[\"accuracy_SMA\", \"opp_cost_SMA\", \"accuracy_EMA\", \"opp_cost_EMA\"])\n",
    "win_results_collated = []\n",
    "\n",
    "# run walk forward validation \n",
    "for i in range(len(parameter_grid)):\n",
    "    param_set = parameter_grid[i]\n",
    "    model = RandomForestClassifier(**param_set)\n",
    "    win_results, agg_results = models.categorical.walk_forward(\n",
    "        model = model, X = X_df, y = y_df, cost_weight = cost_df, rolling = True, \n",
    "        max_windows = 36, start_index = datetime.datetime(2010, 1, 1)\n",
    "    )\n",
    "    win_results_collated.append(win_results)\n",
    "    agg_results_collated.loc[i, \"accuracy_SMA\"] = agg_results.loc[\"SMA\", \"accuracy\"]\n",
    "    agg_results_collated.loc[i, \"accuracy_EMA\"] = agg_results.loc[\"EMA\", \"accuracy\"]\n",
    "    agg_results_collated.loc[i, \"opp_cost_SMA\"] = agg_results.loc[\"SMA\", \"opp_cost\"]\n",
    "    agg_results_collated.loc[i, \"opp_cost_EMA\"] = agg_results.loc[\"EMA\", \"opp_cost\"]\n",
    "    \n",
    "# save parameters\n",
    "parameter_df = pd.DataFrame.from_records(parameter_grid)\n",
    "combined_df = pd.concat([parameter_df, agg_results_collated], axis=1)"
   ]
  },
  {
   "cell_type": "code",
   "execution_count": null,
   "id": "honey-thermal",
   "metadata": {},
   "outputs": [],
   "source": [
    "win_results_collated"
   ]
  },
  {
   "cell_type": "code",
   "execution_count": null,
   "id": "controlling-salon",
   "metadata": {},
   "outputs": [],
   "source": [
    "combined_df"
   ]
  },
  {
   "cell_type": "code",
   "execution_count": null,
   "id": "naval-wayne",
   "metadata": {},
   "outputs": [],
   "source": []
  },
  {
   "cell_type": "code",
   "execution_count": null,
   "id": "african-space",
   "metadata": {},
   "outputs": [],
   "source": []
  },
  {
   "cell_type": "markdown",
   "id": "dirty-return",
   "metadata": {},
   "source": [
    "## Tuning Code for All Futures"
   ]
  },
  {
   "cell_type": "code",
   "execution_count": null,
   "id": "manual-distributor",
   "metadata": {},
   "outputs": [],
   "source": [
    "# retrieve parameter grid\n",
    "parameter_grid = list(ParameterGrid(rfParams))\n",
    "\n",
    "for future in futuresList:\n",
    "    # load data\n",
    "    df = pd.read_csv(f\"tickerData/{future}.txt\", parse_dates = [\"DATE\"])\n",
    "    df.columns = ['DATE', 'OPEN', 'HIGH', 'LOW', 'CLOSE', 'VOL', 'OI', 'P', 'R', 'RINFO']\n",
    "    df = df.set_index(\"DATE\")\n",
    "    df = df[(df.VOL != 0) & (df.CLOSE != 0)]\n",
    "    df = df.dropna(axis=0)\n",
    "    \n",
    "    # load X and y\n",
    "    X_df = utils.generate_X_df([df.CLOSE, df.VOL], [\"perc\", \"perc\"])\n",
    "    y_df = utils.generate_y_cat(df.CLOSE)\n",
    "    cost_df = utils.perc_change(df.CLOSE, shift=0)\n",
    "    \n",
    "    # prepare collated results\n",
    "    agg_results_collated = pd.DataFrame(index=list(range(len(parameter_grid))), \n",
    "                                        columns=[\"accuracy_SMA\", \"opp_cost_SMA\", \"accuracy_EMA\", \"opp_cost_EMA\"])\n",
    "    win_results_collated = []\n",
    "\n",
    "    # run walk forward validation \n",
    "    for i in range(len(parameter_grid)):\n",
    "        param_set = parameter_grid[i]\n",
    "        model = RandomForestClassifier(**param_set)\n",
    "        win_results, agg_results = models.categorical.walk_forward(\n",
    "            model = model, X = X_df, y = y_df, cost_weight = cost_df, rolling = True, max_windows = 36\n",
    "        )\n",
    "        win_results_collated.append(win_results)\n",
    "        agg_results_collated.loc[i, \"accuracy_SMA\"] = agg_results.loc[\"SMA\", \"accuracy\"]\n",
    "        agg_results_collated.loc[i, \"accuracy_EMA\"] = agg_results.loc[\"EMA\", \"accuracy\"]\n",
    "        agg_results_collated.loc[i, \"opp_cost_SMA\"] = agg_results.loc[\"SMA\", \"opp_cost\"]\n",
    "        agg_results_collated.loc[i, \"opp_cost_EMA\"] = agg_results.loc[\"EMA\", \"opp_cost\"]\n",
    "\n",
    "    # save parameters\n",
    "    parameter_df = pd.DataFrame.from_records(parameter_grid)\n",
    "    combined_df = pd.concat([parameter_df, agg_results_collated], axis=1)\n",
    "    combined_df.to_csv(f\"model_metrics/categorical/rf/perc/{future}.txt\", index=False)\n",
    "    \n",
    "    print(f'{future} done')"
   ]
  },
  {
   "cell_type": "code",
   "execution_count": null,
   "id": "boolean-innocent",
   "metadata": {},
   "outputs": [],
   "source": [
    "win_results_collated"
   ]
  },
  {
   "cell_type": "code",
   "execution_count": null,
   "id": "attempted-conducting",
   "metadata": {},
   "outputs": [],
   "source": [
    "combined_df"
   ]
  },
  {
   "cell_type": "code",
   "execution_count": null,
   "id": "powered-selection",
   "metadata": {},
   "outputs": [],
   "source": []
  },
  {
   "cell_type": "markdown",
   "id": "passing-olive",
   "metadata": {},
   "source": [
    "## Save Model"
   ]
  },
  {
   "cell_type": "code",
   "execution_count": null,
   "id": "forced-edition",
   "metadata": {},
   "outputs": [],
   "source": [
    "train_start = '2019-01-01'\n",
    "train_end = '2020-12-31'"
   ]
  },
  {
   "cell_type": "code",
   "execution_count": null,
   "id": "inner-evolution",
   "metadata": {},
   "outputs": [],
   "source": [
    "futuresList = utils.futuresList\n",
    "\n",
    "for future in futuresList:\n",
    "    txt_path = f'rf/perc/{future}'\n",
    "\n",
    "    # load data\n",
    "    df = pd.read_csv(f\"tickerData/{future}.txt\", parse_dates = [\"DATE\"])\n",
    "    df.columns = ['DATE', 'OPEN', 'HIGH', 'LOW', 'CLOSE', 'VOL', 'OI', 'P', 'R', 'RINFO']\n",
    "    # extract train set\n",
    "    train_df = df.loc[(df['DATE'] >= train_start) & (df['DATE'] <= train_end)]\n",
    "    train_df = train_df.set_index(\"DATE\")\n",
    "    # remove na and zero values\n",
    "    train_df = train_df[(train_df.VOL != 0) & (train_df.CLOSE != 0)]\n",
    "    train_df = train_df.dropna(axis=0)\n",
    "\n",
    "    # extract X_train and y_train\n",
    "    X_train = utils.generate_X_df([train_df.CLOSE, train_df.VOL], [\"perc\", \"perc\"])\n",
    "    y_train = utils.generate_y_cat(train_df.CLOSE)\n",
    "    X_train = X_train.dropna(axis=0)\n",
    "    y_train = y_train.dropna(axis=0)\n",
    "\n",
    "    # get intersection of all dataframes\n",
    "    common_index = X_train.index.intersection(y_train.index)\n",
    "    X_train = X_train[X_train.index.isin(common_index)].to_numpy()\n",
    "    y_train = y_train[y_train.index.isin(common_index)].to_numpy(np.dtype(int))\n",
    "    \n",
    "    metric = 'accuracy_SMA'\n",
    "    model = RandomForestClassifier\n",
    "    model_wrapper = models.categorical.RFWrapper\n",
    "    \n",
    "    _ = models.categorical.save_model(txt_path, metric, model, model_wrapper, X_train, y_train)\n"
   ]
  },
  {
   "cell_type": "code",
   "execution_count": null,
   "id": "positive-tourism",
   "metadata": {},
   "outputs": [],
   "source": []
  },
  {
   "cell_type": "code",
   "execution_count": null,
   "id": "contrary-phone",
   "metadata": {},
   "outputs": [],
   "source": []
  }
 ],
 "metadata": {
  "kernelspec": {
   "display_name": "Python 3",
   "language": "python",
   "name": "python3"
  },
  "language_info": {
   "codemirror_mode": {
    "name": "ipython",
    "version": 3
   },
   "file_extension": ".py",
   "mimetype": "text/x-python",
   "name": "python",
   "nbconvert_exporter": "python",
   "pygments_lexer": "ipython3",
   "version": "3.7.9"
  },
  "toc": {
   "base_numbering": 1,
   "nav_menu": {},
   "number_sections": true,
   "sideBar": true,
   "skip_h1_title": false,
   "title_cell": "Table of Contents",
   "title_sidebar": "Contents",
   "toc_cell": false,
   "toc_position": {},
   "toc_section_display": true,
   "toc_window_display": false
  }
 },
 "nbformat": 4,
 "nbformat_minor": 5
}
